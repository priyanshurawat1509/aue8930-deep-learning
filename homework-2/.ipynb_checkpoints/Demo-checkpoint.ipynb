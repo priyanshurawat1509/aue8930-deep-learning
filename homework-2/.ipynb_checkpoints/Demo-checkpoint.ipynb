{
 "cells": [
  {
   "cell_type": "code",
   "execution_count": 184,
   "id": "19598101",
   "metadata": {},
   "outputs": [
    {
     "name": "stdout",
     "output_type": "stream",
     "text": [
      "[6.3200e-03 1.8000e+01 2.3100e+00 0.0000e+00 5.3800e-01 6.5750e+00\n",
      " 6.5200e+01 4.0900e+00 1.0000e+00 2.9600e+02 1.5300e+01 3.9690e+02\n",
      " 4.9800e+00 2.4000e+01 2.7310e-02 0.0000e+00 7.0700e+00 0.0000e+00\n",
      " 4.6900e-01 6.4210e+00 7.8900e+01 4.9671e+00 2.0000e+00 2.4200e+02\n",
      " 1.7800e+01 3.9690e+02 9.1400e+00 2.1600e+01]\n",
      "(2, 14)\n",
      "[[2.7310e-02 0.0000e+00 7.0700e+00 0.0000e+00 4.6900e-01 6.4210e+00\n",
      "  7.8900e+01 4.9671e+00 2.0000e+00 2.4200e+02 1.7800e+01 3.9690e+02\n",
      "  9.1400e+00 2.1600e+01]\n",
      " [6.3200e-03 1.8000e+01 2.3100e+00 0.0000e+00 5.3800e-01 6.5750e+00\n",
      "  6.5200e+01 4.0900e+00 1.0000e+00 2.9600e+02 1.5300e+01 3.9690e+02\n",
      "  4.9800e+00 2.4000e+01]]\n",
      "now\n",
      "[[2.7310e-02 0.0000e+00 7.0700e+00 0.0000e+00 4.6900e-01 6.4210e+00\n",
      "  7.8900e+01 4.9671e+00 2.0000e+00 2.4200e+02 1.7800e+01 3.9690e+02\n",
      "  9.1400e+00 2.1600e+01]\n",
      " [6.3200e-03 1.8000e+01 2.3100e+00 0.0000e+00 5.3800e-01 6.5750e+00\n",
      "  6.5200e+01 4.0900e+00 1.0000e+00 2.9600e+02 1.5300e+01 3.9690e+02\n",
      "  4.9800e+00 2.4000e+01]]\n",
      "[]\n"
     ]
    }
   ],
   "source": [
    "import numpy as np\n",
    "\n",
    "train_size = 1\n",
    "data = np.fromfile('housing.data', sep=\" \")\n",
    "data = data[:28]\n",
    "print(data)\n",
    "reshape = data.reshape(2,14)\n",
    "print(np.shape(reshape))\n",
    "np.random.shuffle(reshape)\n",
    "print(reshape)\n",
    "train,test = reshape[:int(train_size*len(reshape))],reshape[int(train_size*len(reshape)):]\n",
    "print(\"now\")\n",
    "print(train)\n",
    "print(test)"
   ]
  },
  {
   "cell_type": "code",
   "execution_count": 208,
   "id": "df7885a4",
   "metadata": {},
   "outputs": [
    {
     "name": "stdout",
     "output_type": "stream",
     "text": [
      "[21.6 24. ]\n",
      "(2, 13)\n"
     ]
    }
   ],
   "source": [
    "y_train = reshape[:,-1]\n",
    "print(y_train)\n",
    "X_train = reshape[:,:13]\n",
    "print(X_train.shape)"
   ]
  },
  {
   "cell_type": "code",
   "execution_count": 224,
   "id": "a88041e6",
   "metadata": {},
   "outputs": [
    {
     "name": "stdout",
     "output_type": "stream",
     "text": [
      "2\n",
      "13\n"
     ]
    },
    {
     "name": "stderr",
     "output_type": "stream",
     "text": [
      "C:\\Users\\priya\\AppData\\Local\\Temp\\ipykernel_32276\\1877522664.py:15: RuntimeWarning: invalid value encountered in double_scalars\n",
      "  Xstd[i,j] = (X[i,j] - min(X[:,j]))/(max(X[:,j]) - min(X[:,j]))\n",
      "C:\\Users\\priya\\AppData\\Local\\Temp\\ipykernel_32276\\1877522664.py:21: RuntimeWarning: invalid value encountered in double_scalars\n",
      "  Xstd[i,j] = (X[i,j] - min(X[:,j]))/(max(X[:,j]) - min(X[:,j]))\n"
     ]
    }
   ],
   "source": [
    "X= X_train\n",
    "\n",
    "Xstd = np.zeros(shape=(np.shape(X)))\n",
    "Xscaled = np.zeros(shape=(np.shape(X)))\n",
    "a = 0\n",
    "b = 1\n",
    "rows, columns\n",
    "print(rows)\n",
    "print(columns)\n",
    "# Xmin = np.zeros(shape = (rows,1)\n",
    "\n",
    "#########for Min and Max\n",
    "for j in range(columns):\n",
    "    for i in range(rows):\n",
    "                Xstd[i,j] = (X[i,j] - min(X[:,j]))/(max(X[:,j]) - min(X[:,j]))\n",
    "                Xscaled[i,j] = Xstd[i,j]*(b-a) + a\n",
    "        \n",
    "        \n",
    "for j in range(columns): \n",
    "    for i in range(rows):\n",
    "        Xstd[i,j] = (X[i,j] - min(X[:,j]))/(max(X[:,j]) - min(X[:,j]))\n",
    "        Xscaled[i,j] = Xstd[i,j]*(b-a) + a\n"
   ]
  },
  {
   "cell_type": "code",
   "execution_count": 203,
   "id": "bfc15254",
   "metadata": {},
   "outputs": [
    {
     "name": "stdout",
     "output_type": "stream",
     "text": [
      "range(0, 13)\n"
     ]
    }
   ],
   "source": [
    "print(range(columns))"
   ]
  },
  {
   "cell_type": "code",
   "execution_count": null,
   "id": "b4546d23",
   "metadata": {},
   "outputs": [],
   "source": []
  }
 ],
 "metadata": {
  "kernelspec": {
   "display_name": "Python 3 (ipykernel)",
   "language": "python",
   "name": "python3"
  },
  "language_info": {
   "codemirror_mode": {
    "name": "ipython",
    "version": 3
   },
   "file_extension": ".py",
   "mimetype": "text/x-python",
   "name": "python",
   "nbconvert_exporter": "python",
   "pygments_lexer": "ipython3",
   "version": "3.9.5"
  }
 },
 "nbformat": 4,
 "nbformat_minor": 5
}
